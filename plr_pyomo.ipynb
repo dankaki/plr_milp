{
 "cells": [
  {
   "cell_type": "markdown",
   "metadata": {},
   "source": [
    "# Piecewise Linear Regression Using a Mixed Integer Linear Program\n",
    "_Daniyar Akizhanov_"
   ]
  },
  {
   "cell_type": "markdown",
   "metadata": {},
   "source": [
    "## Required imports"
   ]
  },
  {
   "cell_type": "markdown",
   "metadata": {},
   "source": [
    "Besides the imports below, please install the glpk solver and add it to the path. For more information, refer to pyomo documentation."
   ]
  },
  {
   "cell_type": "code",
   "execution_count": 13,
   "metadata": {},
   "outputs": [],
   "source": [
    "import pyomo.environ as pyo\n",
    "import numpy as np\n",
    "import matplotlib.pyplot as plt"
   ]
  },
  {
   "cell_type": "markdown",
   "metadata": {},
   "source": [
    "## Abstract Model Construction"
   ]
  },
  {
   "cell_type": "code",
   "execution_count": 14,
   "metadata": {},
   "outputs": [],
   "source": [
    "model = pyo.AbstractModel()\n",
    "\n",
    "# Number of sample points & iterator for them\n",
    "model.n = pyo.Param(within=pyo.NonNegativeIntegers)\n",
    "model.I = pyo.RangeSet(1, model.n)\n",
    "\n",
    "# Number of segments & iterator for them\n",
    "model.m = pyo.Param(within=pyo.NonNegativeIntegers)\n",
    "model.J = pyo.RangeSet(1, model.m)\n",
    "\n",
    "# The sample data\n",
    "model.X = pyo.Param(model.I, domain=pyo.Reals)\n",
    "model.Y = pyo.Param(model.I, domain=pyo.Reals)\n",
    "\n",
    "# big M for deviation [abs(y - kx - b)] values\n",
    "model.bigM = pyo.Param(domain = pyo.NonNegativeReals)\n",
    "\n",
    "# B[i,j] indicates that point i is in segment s <= j\n",
    "model.B = pyo.Var(model.I, model.J, domain=pyo.Binary)\n",
    "# deviation: abs(y - kx - b)\n",
    "model.d = pyo.Var(model.I, domain=pyo.NonNegativeReals)\n",
    "# y = kx + b\n",
    "model.k = pyo.Var(model.J, domain=pyo.Reals)\n",
    "model.b = pyo.Var(model.J)"
   ]
  },
  {
   "cell_type": "code",
   "execution_count": 15,
   "metadata": {},
   "outputs": [],
   "source": [
    "def obj_expression(m):\n",
    "    return pyo.summation(m.d)\n",
    "\n",
    "model.OBJ = pyo.Objective(rule=obj_expression)\n",
    "\n",
    "def fillLastRule(m, i):\n",
    "    return (m.B[i,m.m] == 1)\n",
    "\n",
    "model.fillLastConst = pyo.Constraint(model.I, rule = fillLastRule)\n",
    "\n",
    "def fillOneRule(m, j):\n",
    "    return (m.B[1,j] == 1)\n",
    "\n",
    "model.fillOneConst = pyo.Constraint(model.J, rule = fillOneRule)\n",
    "\n",
    "def includesLastRule(m, i, j):\n",
    "    return (m.B[i,j] >= m.B[i,j-1])\n",
    "\n",
    "J2 = pyo.RangeSet(2, model.m)\n",
    "model.inclLastConst = pyo.Constraint(model.I, J2, rule = includesLastRule)\n",
    "\n",
    "def solidRule(m, i, j):\n",
    "    return (m.B[i,j] <= m.B[i-1,j])\n",
    "\n",
    "I2 = pyo.RangeSet(2, model.n)\n",
    "model.solidConst = pyo.Constraint(I2, model.J, rule = solidRule)\n",
    "\n",
    "def devPosRule(m, i, j):\n",
    "    return (-m.bigM * (1 - m.B[i, j] + m.B[i,j-1]) + m.X[i]*m.k[j] + m.b[j] - m.Y[i] <= m.d[i])\n",
    "\n",
    "model.devPosConst = pyo.Constraint(model.I, J2, rule = devPosRule)\n",
    "\n",
    "def devPosFirstRule(m, i):\n",
    "    return (-m.bigM * (1 - m.B[i, 1]) + m.X[i]*m.k[1] + m.b[1] - m.Y[i] <= m.d[i])\n",
    "\n",
    "model.devPosFirstConst = pyo.Constraint(model.I, rule = devPosFirstRule)\n",
    "\n",
    "def devNegRule(m, i, j):\n",
    "    return (-m.bigM * (1 - m.B[i, j] + m.B[i,j-1]) - m.X[i]*m.k[j] - m.b[j] + m.Y[i] <= m.d[i])\n",
    "\n",
    "model.devNegConst = pyo.Constraint(model.I, J2, rule=devNegRule)\n",
    "\n",
    "def devNegFirstRule(m, i):\n",
    "    return (-m.bigM * (1 - m.B[i, 1]) - m.X[i]*m.k[1] - m.b[1] + m.Y[i] <= m.d[i])\n",
    "\n",
    "model.devNegFirstConst = pyo.Constraint(model.I, rule = devNegFirstRule)"
   ]
  },
  {
   "cell_type": "markdown",
   "metadata": {},
   "source": [
    "## Concrete Model Construction"
   ]
  },
  {
   "cell_type": "markdown",
   "metadata": {},
   "source": [
    "We'll approximate the arctan function."
   ]
  },
  {
   "cell_type": "code",
   "execution_count": 16,
   "metadata": {},
   "outputs": [
    {
     "data": {
      "text/plain": [
       "[<matplotlib.lines.Line2D at 0x26994c18b50>]"
      ]
     },
     "execution_count": 16,
     "metadata": {},
     "output_type": "execute_result"
    },
    {
     "data": {
      "image/png": "[encoded data removed]",
      "text/plain": [
       "<Figure size 432x288 with 1 Axes>"
      ]
     },
     "metadata": {
      "needs_background": "light"
     },
     "output_type": "display_data"
    }
   ],
   "source": [
    "X = np.arange(100)\n",
    "y = np.arctan(X / 10)\n",
    "plt.plot(X, y)"
   ]
  },
  {
   "cell_type": "code",
   "execution_count": 17,
   "metadata": {},
   "outputs": [],
   "source": [
    "params = dict()\n",
    "params['n'] = {None : X.shape[0]}\n",
    "params['m'] = {None : 4}\n",
    "Xlist = X.tolist()\n",
    "params['X'] = {i+1 : Xlist[i] for i in range(len(Xlist))}\n",
    "ylist = y.tolist()\n",
    "params['Y'] = {i+1 : ylist[i] for i in range(len(ylist))}\n",
    "# Attention: big M has to be tuned for every problem.\n",
    "params['bigM'] = {None : 100}\n",
    "params = {None : params}"
   ]
  },
  {
   "cell_type": "code",
   "execution_count": 18,
   "metadata": {},
   "outputs": [],
   "source": [
    "instance = model.create_instance(params)"
   ]
  },
  {
   "cell_type": "markdown",
   "metadata": {},
   "source": [
    "## Solving the Mixed Integer Linear Program"
   ]
  },
  {
   "cell_type": "code",
   "execution_count": 19,
   "metadata": {},
   "outputs": [],
   "source": [
    "opt = pyo.SolverFactory('glpk')\n",
    "solution = opt.solve(instance)"
   ]
  },
  {
   "cell_type": "markdown",
   "metadata": {},
   "source": [
    "## Interpreting the Optimal Solution"
   ]
  },
  {
   "cell_type": "code",
   "execution_count": 20,
   "metadata": {},
   "outputs": [],
   "source": [
    "B_dict = instance.B.get_values()\n",
    "X_inds = np.zeros((X.shape[0], instance.m.value), bool)\n",
    "for i in range(100):\n",
    "    if B_dict[(i+1, 1)] == 1:\n",
    "        X_inds[i,0] = True\n",
    "        continue\n",
    "    for j in range(2, instance.m.value + 1):\n",
    "        if B_dict[(i+1, j)] - B_dict[(i+1, j-1)] == 1:\n",
    "            X_inds[i,j-1] = True\n",
    "            break"
   ]
  },
  {
   "cell_type": "code",
   "execution_count": 21,
   "metadata": {},
   "outputs": [
    {
     "data": {
      "text/plain": [
       "10"
      ]
     },
     "execution_count": 21,
     "metadata": {},
     "output_type": "execute_result"
    }
   ],
   "source": [
    "X_inds[:,0].sum()"
   ]
  },
  {
   "cell_type": "code",
   "execution_count": 22,
   "metadata": {},
   "outputs": [],
   "source": [
    "k = instance.k.get_values()\n",
    "b = instance.b.get_values()"
   ]
  },
  {
   "cell_type": "code",
   "execution_count": 23,
   "metadata": {},
   "outputs": [
    {
     "data": {
      "text/plain": [
       "({1: 0.0826660809078646,\n",
       "  2: 0.0274354310343889,\n",
       "  3: 0.00717337808498214,\n",
       "  4: 0.00181891271552672},\n",
       " {1: 0.0320633980341512,\n",
       "  2: 0.558440097106311,\n",
       "  3: 1.0338444298488,\n",
       "  4: 1.29811061527402})"
      ]
     },
     "execution_count": 23,
     "metadata": {},
     "output_type": "execute_result"
    }
   ],
   "source": [
    "k, b"
   ]
  },
  {
   "cell_type": "code",
   "execution_count": 25,
   "metadata": {},
   "outputs": [
    {
     "data": {
      "text/plain": [
       "[<matplotlib.lines.Line2D at 0x26994e97790>]"
      ]
     },
     "execution_count": 25,
     "metadata": {},
     "output_type": "execute_result"
    },
    {
     "data": {
      "image/png": "[encoded data removed]",
      "text/plain": [
       "<Figure size 432x288 with 1 Axes>"
      ]
     },
     "metadata": {
      "needs_background": "light"
     },
     "output_type": "display_data"
    }
   ],
   "source": [
    "plt.plot(X, y)\n",
    "y_pred = np.zeros(y.shape)\n",
    "for j in range(instance.m.value):\n",
    "    y_pred += X_inds[:,j] * (k[j+1] * X + b[j+1])\n",
    "plt.plot(X, y_pred)"
   ]
  }
 ],
 "metadata": {
  "interpreter": {
   "hash": "0c0466a22fa70018f9192c45880a72dd3ae41c815685c8f3d063f8fae5540c58"
  },
  "kernelspec": {
   "display_name": "Python 3.8.5 64-bit",
   "language": "python",
   "name": "python3"
  },
  "language_info": {
   "codemirror_mode": {
    "name": "ipython",
    "version": 3
   },
   "file_extension": ".py",
   "mimetype": "text/x-python",
   "name": "python",
   "nbconvert_exporter": "python",
   "pygments_lexer": "ipython3",
   "version": "3.8.5"
  },
  "orig_nbformat": 4
 },
 "nbformat": 4,
 "nbformat_minor": 2
}
